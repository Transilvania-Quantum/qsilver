{
 "cells": [
  {
   "cell_type": "markdown",
   "metadata": {},
   "source": [
    "<table align=\"left\"  width=\"100%\"> <tr>\n",
    "        <td  style=\"background-color:#ffffff;\">\n",
    "            <a href=\"http://qworld.lu.lv\" target=\"_blank\"><img src=\"../images/qworld.jpg\" width=\"35%\" align=\"left\"> </a></td>\n",
    "        <td style=\"background-color:#ffffff;vertical-align:bottom;text-align:right;\">\n",
    "            prepared by Maksim Dimitrijev (<a href=\"http://qworld.lu.lv/index.php/qlatvia/\" target=\"_blank\">QLatvia</a>)\n",
    "        </td>        \n",
    "</tr></table>"
   ]
  },
  {
   "cell_type": "markdown",
   "metadata": {},
   "source": [
    "<table width=\"100%\"><tr><td style=\"color:#bbbbbb;background-color:#ffffff;font-size:11px;font-style:italic;text-align:right;\">This cell contains some macros. If there is a problem with displaying mathematical formulas, please run this cell to load these macros. </td></tr></table>\n",
    "$ \\newcommand{\\bra}[1]{\\langle #1|} $\n",
    "$ \\newcommand{\\ket}[1]{|#1\\rangle} $\n",
    "$ \\newcommand{\\braket}[2]{\\langle #1|#2\\rangle} $\n",
    "$ \\newcommand{\\dot}[2]{ #1 \\cdot #2} $\n",
    "$ \\newcommand{\\biginner}[2]{\\left\\langle #1,#2\\right\\rangle} $\n",
    "$ \\newcommand{\\mymatrix}[2]{\\left( \\begin{array}{#1} #2\\end{array} \\right)} $\n",
    "$ \\newcommand{\\myvector}[1]{\\mymatrix{c}{#1}} $\n",
    "$ \\newcommand{\\myrvector}[1]{\\mymatrix{r}{#1}} $\n",
    "$ \\newcommand{\\mypar}[1]{\\left( #1 \\right)} $\n",
    "$ \\newcommand{\\mybigpar}[1]{ \\Big( #1 \\Big)} $\n",
    "$ \\newcommand{\\sqrttwo}{\\frac{1}{\\sqrt{2}}} $\n",
    "$ \\newcommand{\\dsqrttwo}{\\dfrac{1}{\\sqrt{2}}} $\n",
    "$ \\newcommand{\\onehalf}{\\frac{1}{2}} $\n",
    "$ \\newcommand{\\donehalf}{\\dfrac{1}{2}} $\n",
    "$ \\newcommand{\\hadamard}{ \\mymatrix{rr}{ \\sqrttwo & \\sqrttwo \\\\ \\sqrttwo & -\\sqrttwo }} $\n",
    "$ \\newcommand{\\vzero}{\\myvector{1\\\\0}} $\n",
    "$ \\newcommand{\\vone}{\\myvector{0\\\\1}} $\n",
    "$ \\newcommand{\\stateplus}{\\myvector{ \\sqrttwo \\\\  \\sqrttwo } } $\n",
    "$ \\newcommand{\\stateminus}{ \\myrvector{ \\sqrttwo \\\\ -\\sqrttwo } } $\n",
    "$ \\newcommand{\\myarray}[2]{ \\begin{array}{#1}#2\\end{array}} $\n",
    "$ \\newcommand{\\X}{ \\mymatrix{cc}{0 & 1 \\\\ 1 & 0}  } $\n",
    "$ \\newcommand{\\Z}{ \\mymatrix{rr}{1 & 0 \\\\ 0 & -1}  } $\n",
    "$ \\newcommand{\\Htwo}{ \\mymatrix{rrrr}{ \\frac{1}{2} & \\frac{1}{2} & \\frac{1}{2} & \\frac{1}{2} \\\\ \\frac{1}{2} & -\\frac{1}{2} & \\frac{1}{2} & -\\frac{1}{2} \\\\ \\frac{1}{2} & \\frac{1}{2} & -\\frac{1}{2} & -\\frac{1}{2} \\\\ \\frac{1}{2} & -\\frac{1}{2} & -\\frac{1}{2} & \\frac{1}{2} } } $\n",
    "$ \\newcommand{\\CNOT}{ \\mymatrix{cccc}{1 & 0 & 0 & 0 \\\\ 0 & 1 & 0 & 0 \\\\ 0 & 0 & 0 & 1 \\\\ 0 & 0 & 1 & 0} } $\n",
    "$ \\newcommand{\\norm}[1]{ \\left\\lVert #1 \\right\\rVert } $\n",
    "$ \\newcommand{\\pstate}[1]{ \\lceil \\mspace{-1mu} #1 \\mspace{-1.5mu} \\rfloor } $\n",
    "$ \\newcommand{\\Y}{ \\mymatrix{rr}{0 & -i \\\\ i & 0} } $ $ \\newcommand{\\S}{ \\mymatrix{rr}{1 & 0 \\\\ 0 & i} } $ \n",
    "$ \\newcommand{\\T}{ \\mymatrix{rr}{1 & 0 \\\\ 0 & e^{i \\frac{pi}{4}}} } $ \n",
    "$ \\newcommand{\\Sdg}{ \\mymatrix{rr}{1 & 0 \\\\ 0 & -i} } $ \n",
    "$ \\newcommand{\\Tdg}{ \\mymatrix{rr}{1 & 0 \\\\ 0 & e^{-i \\frac{pi}{4}}} } $\n",
    "$ \\newcommand{\\qgate}[1]{ \\mathop{\\textit{#1} } }$"
   ]
  },
  {
   "cell_type": "markdown",
   "metadata": {},
   "source": [
    "<h1> Operations on a Bloch sphere </h1>"
   ]
  },
  {
   "cell_type": "markdown",
   "metadata": {},
   "source": [
    "In this notebook we will cover all one-qubit operations of Qiskit and their meaning on a Bloch sphere. This can be considered as visual tutorial for Qiskit operations, but also this is a constructive way to play around and understand better the Bloch sphere."
   ]
  },
  {
   "cell_type": "markdown",
   "metadata": {},
   "source": [
    "<h2> Rotation gates </h2>\n",
    "\n",
    "We start with the most general form of single-qubit unitary transformation. \n",
    "\n",
    "First of all, it should be able to take state $\\ket{0}$ to any possible state $\\ket{\\psi} = \\cos{\\frac{\\theta}{2}} \\ket{0} + e^{i\\phi} \\sin{\\frac{\\theta}{2}} \\ket{1}$. These will be the amplitudes of transition in the left column of our transformation. The remaining two entries are filled in a way to ensure that the transformation is unitary and having initial constraints $0 \\leq \\theta \\leq \\pi$ and $0 \\leq \\phi < 2\\pi$, we obtain the following general unitary:\n",
    "\n",
    "$$\n",
    "\\qgate{U} = \\mymatrix{cc}{\\cos{\\frac{\\theta}{2}} & -e^{i\\lambda}\\sin{\\frac{\\theta}{2}} \\\\ e^{i\\phi}\\sin{\\frac{\\theta}{2}} & e^{i\\lambda + i\\phi}\\cos{\\frac{\\theta}{2}}},\n",
    "$$\n",
    "\n",
    "where $0 \\leq \\theta \\leq \\pi$ and $0 \\leq \\phi, \\lambda < 2\\pi$. Upto a global phase every unitary can be expressed in this form, and we will see how specific transformations will work. "
   ]
  },
  {
   "cell_type": "markdown",
   "metadata": {},
   "source": [
    "<h3> $\\qgate{U}$-gate </h3>\n",
    "\n",
    "Qiskit gives us access to the most general one-qubit unitary: $\\qgate{U}(\\theta, \\phi, \\lambda)$. The syntax is the following:\n",
    "\n",
    "$$\n",
    "qc.u(\\theta, \\phi, \\lambda, qubit),\n",
    "$$\n",
    "\n",
    "where each angle is in radians.\n",
    "\n",
    "Let's have an example, where we apply $\\qgate{U}$ with each angle $\\frac{\\pi}{2}$ to the qubit in state $\\ket{0}$. Try to predict the resulting state before launching the code. Then try to begin from state $\\ket{1}$ (uncomment the code that applies $X$-gate), and guess what will be the difference."
   ]
  },
  {
   "cell_type": "code",
   "execution_count": 47,
   "metadata": {},
   "outputs": [],
   "source": [
    "# Import necessary libraries once.\n",
    "from qiskit import QuantumRegister, ClassicalRegister, QuantumCircuit, execute, Aer\n",
    "from math import pi, cos, sin\n",
    "from numpy import arcsin\n",
    "from qiskit.visualization import plot_bloch_vector, bloch\n",
    "from matplotlib.pyplot import text\n",
    "from qutip import *"
   ]
  },
  {
   "cell_type": "code",
   "execution_count": 48,
   "metadata": {},
   "outputs": [
    {
     "data": {
      "image/png": "[encoded data removed]",
      "text/plain": [
       "<Figure size 360x360 with 1 Axes>"
      ]
     },
     "metadata": {},
     "output_type": "display_data"
    }
   ],
   "source": [
    "qreg =  QuantumRegister(1)\n",
    "creg = ClassicalRegister(1)\n",
    "mycircuit = QuantumCircuit(qreg,creg)\n",
    "\n",
    "#mycircuit.x(qreg[0])\n",
    "mycircuit.u(pi/2, pi/2, pi/2, qreg[0])\n",
    "job = execute(mycircuit,Aer.get_backend('statevector_simulator'),optimization_level=0)\n",
    "current_quantum_state=job.result().get_statevector(mycircuit)\n",
    "\n",
    "%run quantum.py\n",
    "angles = state_to_angles(current_quantum_state)\n",
    "\n",
    "%run drawing.py\n",
    "draw_bloch(angles[0], angles[1])"
   ]
  },
  {
   "cell_type": "markdown",
   "metadata": {},
   "source": [
    "<h3> Phase gate </h3>\n",
    "\n",
    "Gate $\\qgate{P}$ is responsible for phase. $\\qgate{P}(\\lambda) = U(0, 0, \\lambda)$. In matrix form we have the following unitary operation:\n",
    "\n",
    "$$\n",
    "\\mymatrix{cc}{1 & 0 \\\\ 0 & e^{i \\lambda}}\n",
    "$$\n",
    "\n",
    "The syntax of gate $\\qgate{P}$ is the following ($\\lambda$ in radians):\n",
    "\n",
    "$$\n",
    "qc.p(\\lambda, qubit).\n",
    "$$\n",
    "\n",
    "To see the effect of phase that $\\qgate{P}$ produces, we will need to start from superposition, and so in the beginning we will apply $H$-gate to our qubit."
   ]
  },
  {
   "cell_type": "code",
   "execution_count": null,
   "metadata": {},
   "outputs": [],
   "source": [
    "qreg =  QuantumRegister(1)\n",
    "creg = ClassicalRegister(1)\n",
    "mycircuit = QuantumCircuit(qreg,creg)\n",
    "\n",
    "mycircuit.h(qreg[0])\n",
    "mycircuit.p(2*pi/3, qreg[0])\n",
    "job = execute(mycircuit,Aer.get_backend('statevector_simulator'),optimization_level=0)\n",
    "current_quantum_state=job.result().get_statevector(mycircuit)\n",
    "\n",
    "%run quantum.py\n",
    "angles = state_to_angles(current_quantum_state)\n",
    "\n",
    "%run drawing.py\n",
    "draw_bloch(angles[0], angles[1])"
   ]
  },
  {
   "cell_type": "markdown",
   "metadata": {},
   "source": [
    "<h3> Task 1 </h3>\n",
    "\n",
    "We have prepared two circuits for you to be able to visualize the state before and after applying some operations. Play around with $U$ and $P$ gates to feel more confident with their usage. Note that green state represents the state before the operation, and red - after."
   ]
  },
  {
   "cell_type": "code",
   "execution_count": null,
   "metadata": {},
   "outputs": [],
   "source": [
    "qreg =  QuantumRegister(1)\n",
    "\n",
    "def initial_circuit():\n",
    "    creg = ClassicalRegister(1)\n",
    "    circuit = QuantumCircuit(qreg,creg)\n",
    "    \n",
    "    # Change this to begin from different state.\n",
    "    circuit.h(qreg[0])\n",
    "    \n",
    "    return circuit\n",
    "\n",
    "mycircuit = initial_circuit()\n",
    "job = execute(mycircuit,Aer.get_backend('statevector_simulator'),optimization_level=0)\n",
    "current_quantum_state=job.result().get_statevector(mycircuit)\n",
    "\n",
    "%run quantum.py\n",
    "angles1 = state_to_angles(current_quantum_state)\n",
    "\n",
    "mycircuit = initial_circuit()\n",
    "\n",
    "# Apply operations for new state here\n",
    "mycircuit.p(3*pi/2,qreg[0])\n",
    "\n",
    "job = execute(mycircuit,Aer.get_backend('statevector_simulator'),optimization_level=0)\n",
    "current_quantum_state2=job.result().get_statevector(mycircuit)\n",
    "\n",
    "angles2 = state_to_angles(current_quantum_state2)\n",
    "\n",
    "%run drawing.py\n",
    "draw_bloch2(angles1[0], angles1[1], angles2[0], angles2[1])"
   ]
  },
  {
   "cell_type": "markdown",
   "metadata": {},
   "source": [
    "<h2> Rotation around z-axis </h2>\n",
    "\n",
    "Small reminder: z-axis is the one, where states $\\ket{0}$ and $\\ket{1}$ are located.\n",
    "\n",
    "Gate $\\qgate{RZ}$ allows rotations around z-axis, and is responsible for the phase. Note that $\\qgate{P}$-gate is equivalent to $\\qgate{RZ}$ up to a phase factor $\\qgate{RZ}(\\phi)=e^{-iλ/2}RZ(\\phi)$. In matrix form we have the following unitary operation:\n",
    "\n",
    "$$\n",
    "\\mymatrix{cc}{e^{\\frac{-i \\phi}{2}} & 0 \\\\ 0 & e^{\\frac{i \\phi}{2}}}\n",
    "$$\n",
    "\n",
    "The syntax of the $\\qgate{RZ}$ gate is the following ($\\phi$ in radians):\n",
    "\n",
    "$$\n",
    "qc.rz(\\phi, qubit).\n",
    "$$\n",
    "\n",
    "To see the effect of phase that $\\qgate{RZ}$ produces, we will need to start from superposition, and so in the beginning we will apply $\\qgate{H}$-gate to our qubit. Make sure, that you have no trouble to predict where the phase will appear on the Bloch sphere."
   ]
  },
  {
   "cell_type": "code",
   "execution_count": null,
   "metadata": {},
   "outputs": [],
   "source": [
    "qreg =  QuantumRegister(1)\n",
    "creg = ClassicalRegister(1)\n",
    "mycircuit = QuantumCircuit(qreg,creg)\n",
    "\n",
    "mycircuit.h(qreg[0])\n",
    "mycircuit.rz(5*pi/6, qreg[0])\n",
    "job = execute(mycircuit,Aer.get_backend('statevector_simulator'),optimization_level=0)\n",
    "current_quantum_state=job.result().get_statevector(mycircuit)\n",
    "\n",
    "%run quantum.py\n",
    "angles = state_to_angles(current_quantum_state)\n",
    "\n",
    "%run drawing.py\n",
    "draw_bloch(angles[0], angles[1])"
   ]
  },
  {
   "cell_type": "markdown",
   "metadata": {},
   "source": [
    "<h3> Task 2 </h3>\n",
    "\n",
    "For which states the application of $\\qgate{RZ}$ do not change the state? Test them with the code, by trying also different angles for $\\qgate{RZ}$ rotation."
   ]
  },
  {
   "cell_type": "code",
   "execution_count": null,
   "metadata": {},
   "outputs": [],
   "source": [
    "qreg =  QuantumRegister(1)\n",
    "creg = ClassicalRegister(1)\n",
    "mycircuit = QuantumCircuit(qreg,creg)\n",
    "\n",
    "# Try to create initial state here:\n",
    "mycircuit.h(qreg[0])\n",
    "\n",
    "# Apply Rz with different angles to see that you found the needed state.\n",
    "mycircuit.rz(pi/2, qreg[0])\n",
    "\n",
    "job = execute(mycircuit,Aer.get_backend('statevector_simulator'),optimization_level=0)\n",
    "current_quantum_state=job.result().get_statevector(mycircuit)\n",
    "\n",
    "%run quantum.py\n",
    "angles = state_to_angles(current_quantum_state)\n",
    "\n",
    "%run drawing.py\n",
    "draw_bloch(angles[0], angles[1])"
   ]
  },
  {
   "cell_type": "markdown",
   "metadata": {},
   "source": [
    "<a href=\"C08_Operations_On_Bloch_Sphere_Solutions.ipynb#task2\">click for our solution</a>"
   ]
  },
  {
   "cell_type": "markdown",
   "metadata": {},
   "source": [
    "<h2> Rotation around y-axis </h2>\n",
    "\n",
    "Small reminder: y-axis is the one, where states $\\frac{1}{\\sqrt{2}} (\\ket{0} + i\\ket{1})$ and $\\frac{1}{\\sqrt{2}} (\\ket{0} - i\\ket{1})$ are located.\n",
    "\n",
    "Gate $\\qgate{RY}$ allows rotations around y-axis, and you will see, that it is almost as easily understandable as gate $\\qgate{RZ}$. With this gate we can obtain any state with real-valued amplitues, because it changes the angle $\\theta$. The gate is a specific case of $U$: $\\qgate{RY}(\\theta) = U(\\theta, 0, 0)$. In matrix form we have the following unitary operation:\n",
    "\n",
    "$$\n",
    "\\mymatrix{cc}{\\cos{\\frac{\\theta}{2}} & -\\sin{\\frac{\\theta}{2}} \\\\ \\sin{\\frac{\\theta}{2}} & \\cos{\\frac{\\theta}{2}}}\n",
    "$$\n",
    "\n",
    "The syntax of gate $\\qgate{RY}$ is the following ($\\theta$ in radians):\n",
    "\n",
    "$$\n",
    "qc.ry(\\theta, qubit).\n",
    "$$\n",
    "\n",
    "Convince yourself that you can easily guess where the state will appear on the Bloch sphere, if initial state is $\\ket{0}$."
   ]
  },
  {
   "cell_type": "code",
   "execution_count": null,
   "metadata": {},
   "outputs": [],
   "source": [
    "qreg =  QuantumRegister(1)\n",
    "creg = ClassicalRegister(1)\n",
    "mycircuit = QuantumCircuit(qreg,creg)\n",
    "\n",
    "mycircuit.ry(3*pi/4, qreg[0])\n",
    "job = execute(mycircuit,Aer.get_backend('statevector_simulator'))\n",
    "current_quantum_state=job.result().get_statevector(mycircuit)\n",
    "\n",
    "%run quantum.py\n",
    "angles = state_to_angles(current_quantum_state)\n",
    "\n",
    "%run drawing.py\n",
    "draw_bloch(angles[0], angles[1])"
   ]
  },
  {
   "cell_type": "markdown",
   "metadata": {},
   "source": [
    "<h3> Task 3 </h3>\n",
    "\n",
    "For which states the application of $\\qgate{RY}$ do not change the state? Test them with the code, by trying also different angles for $\\qgate{RY}$ rotation."
   ]
  },
  {
   "cell_type": "code",
   "execution_count": null,
   "metadata": {},
   "outputs": [],
   "source": [
    "qreg =  QuantumRegister(1)\n",
    "creg = ClassicalRegister(1)\n",
    "mycircuit = QuantumCircuit(qreg,creg)\n",
    "\n",
    "# Try to create initial state here:\n",
    "mycircuit.h(qreg[0])\n",
    "\n",
    "# Apply Ry with different angles to see that you found the needed state.\n",
    "mycircuit.ry(pi/3, qreg[0])\n",
    "\n",
    "job = execute(mycircuit,Aer.get_backend('statevector_simulator'),optimization_level=0)\n",
    "current_quantum_state=job.result().get_statevector(mycircuit)\n",
    "\n",
    "%run quantum.py\n",
    "angles = state_to_angles(current_quantum_state)\n",
    "\n",
    "%run drawing.py\n",
    "draw_bloch(angles[0], angles[1])"
   ]
  },
  {
   "cell_type": "markdown",
   "metadata": {},
   "source": [
    "<a href=\"C08_Operations_On_Bloch_Sphere_Solutions.ipynb#task3\">click for our solution</a>"
   ]
  },
  {
   "cell_type": "markdown",
   "metadata": {},
   "source": [
    "<h2> Rotation around x-axis </h2>\n",
    "\n",
    "Small reminder: x-axis is the one, where states $\\frac{1}{\\sqrt{2}} (\\ket{0} + \\ket{1})$ and $\\frac{1}{\\sqrt{2}} (\\ket{0} - \\ket{1})$ are located.\n",
    "\n",
    "Gate $\\qgate{RX}$ allows rotations around x-axis. Its operation looks a bit more complicated, than the other two rotations. The gate is a specific case of $\\qgate{U}$: $R_x(\\theta) = \\qgate{U}(\\theta, -\\frac{\\pi}{2}, \\frac{\\pi}{2})$. In matrix form we have the following unitary operation:\n",
    "\n",
    "$$\n",
    "\\mymatrix{cc}{\\cos{\\frac{\\theta}{2}} & -i\\sin{\\frac{\\theta}{2}} \\\\ -i\\sin{\\frac{\\theta}{2}} & \\cos{\\frac{\\theta}{2}}}\n",
    "$$\n",
    "\n",
    "Notice that the matrix form is quite similar to the matrix of $\\qgate{RY}$ rotation. The syntax of gate $\\qgate{RX}$ is the following ($\\theta$ in radians):\n",
    "\n",
    "$$\n",
    "qc.rx(\\theta, qubit).\n",
    "$$\n",
    "\n",
    "Convince yourself that you can easily guess where the state will appear on the Bloch sphere, if initial state is $\\ket{0}$."
   ]
  },
  {
   "cell_type": "code",
   "execution_count": null,
   "metadata": {},
   "outputs": [],
   "source": [
    "qreg =  QuantumRegister(1)\n",
    "creg = ClassicalRegister(1)\n",
    "mycircuit = QuantumCircuit(qreg,creg)\n",
    "\n",
    "mycircuit.rx(3*pi/2, qreg[0])\n",
    "job = execute(mycircuit,Aer.get_backend('statevector_simulator'))\n",
    "current_quantum_state=job.result().get_statevector(mycircuit)\n",
    "\n",
    "%run quantum.py\n",
    "angles = state_to_angles(current_quantum_state)\n",
    "\n",
    "%run drawing.py\n",
    "draw_bloch(angles[0], angles[1])"
   ]
  },
  {
   "cell_type": "markdown",
   "metadata": {},
   "source": [
    "<h3> Task 4 </h3>\n",
    "\n",
    "For which states the application of $\\qgate{RX}$ do not change the state? Test them with the code, by trying also different angles for $\\qgate{RX}$ rotation."
   ]
  },
  {
   "cell_type": "code",
   "execution_count": null,
   "metadata": {},
   "outputs": [],
   "source": [
    "qreg =  QuantumRegister(1)\n",
    "creg = ClassicalRegister(1)\n",
    "mycircuit = QuantumCircuit(qreg,creg)\n",
    "\n",
    "# Try to create initial state here:\n",
    "mycircuit.h(qreg[0])\n",
    "\n",
    "# Apply Ry with different angles to see that you found the needed state.\n",
    "mycircuit.rx(pi/3, qreg[0])\n",
    "\n",
    "job = execute(mycircuit,Aer.get_backend('statevector_simulator'),optimization_level=0)\n",
    "current_quantum_state=job.result().get_statevector(mycircuit)\n",
    "\n",
    "%run quantum.py\n",
    "angles = state_to_angles(current_quantum_state)\n",
    "\n",
    "%run drawing.py\n",
    "draw_bloch(angles[0], angles[1])"
   ]
  },
  {
   "cell_type": "markdown",
   "metadata": {},
   "source": [
    "<a href=\"C08_Operations_On_Bloch_Sphere_Solutions.ipynb#task4\">click for our solution</a>"
   ]
  },
  {
   "cell_type": "markdown",
   "metadata": {},
   "source": [
    "After playing around with different rotations, you should have a good sense of the directions of these rotations. The following code summarizes what you have learnt upto now - you can see the initial point of rotation and its direction."
   ]
  },
  {
   "cell_type": "code",
   "execution_count": null,
   "metadata": {},
   "outputs": [],
   "source": [
    "from qiskit.visualization import plot_bloch_vector, bloch\n",
    "from matplotlib.pyplot import text\n",
    "from math import pi, cos, sin\n",
    "from qutip import *\n",
    "\n",
    "# preparing the sphere\n",
    "sphere = bloch\n",
    "sphere.Bloch\n",
    "b = Bloch()\n",
    "# preparing the lables\n",
    "b.ylpos = [1.1, -1.2]\n",
    "b.xlabel = ['$\\\\left|0\\\\right>+\\\\left|1\\\\right>$', '$\\\\left|0\\\\right>-\\\\left|1\\\\right>$']\n",
    "b.ylabel = ['$\\\\left|0\\\\right>+i\\\\left|1\\\\right>$', '$\\\\left|0\\\\right>-i\\\\left|1\\\\right>$']\n",
    "# first 6 drawn vectors will be blue, the 7th - red\n",
    "b.vector_color = ['b','b','b','b','b','b','r','r','r','r','r','r','g','g','g','g','g','g','#CC6600','#CC6600','#CC6600','#CC6600','#CC6600','#CC6600']\n",
    "# drawing vectors of orthogonal states (most popular bases), note the coordinates of vectors,\n",
    "# they correspond to the according states.\n",
    "b.add_vectors([[0,0,1],[0,0,-1],[0,1,0],[0,-1,0],[1,0,0],[-1,0,0]])\n",
    "\n",
    "# X-rotation\n",
    "theta = 0\n",
    "phi = 3*pi/2\n",
    "for i in range(6):\n",
    "    # calculating the coordinates\n",
    "    x = sin(theta)*cos(phi)\n",
    "    y = sin(theta)*sin(phi)\n",
    "    z = cos(theta)\n",
    "    b.add_vectors([x,y,z])\n",
    "    theta = theta + pi/16\n",
    "\n",
    "# Y-rotation\n",
    "theta = 0\n",
    "phi = 0\n",
    "for i in range(6):\n",
    "    # calculating the coordinates\n",
    "    x = sin(theta)*cos(phi)\n",
    "    y = sin(theta)*sin(phi)\n",
    "    z = cos(theta)\n",
    "    b.add_vectors([x,y,z])\n",
    "    theta = theta + pi/16\n",
    "\n",
    "# Z-rotation\n",
    "theta = pi/2\n",
    "phi = 0\n",
    "for i in range(6):\n",
    "    # calculating the coordinates\n",
    "    x = sin(theta)*cos(phi)\n",
    "    y = sin(theta)*sin(phi)\n",
    "    z = cos(theta)\n",
    "    b.add_vectors([x,y,z])\n",
    "    phi = phi + pi/16\n",
    "    \n",
    "\n",
    "# showing the Bloch sphere with all that we have prepared\n",
    "b.show()"
   ]
  },
  {
   "cell_type": "markdown",
   "metadata": {},
   "source": [
    "### Optional ###"
   ]
  },
  {
   "cell_type": "markdown",
   "metadata": {},
   "source": [
    "$\\qgate{X}$, $\\qgate{Y}$, $\\qgate{Z}$ operators give rise to the rotations operators $\\qgate{RX}$, $\\qgate{RY}$, $\\qgate{RZ}$ when they are exponentiated."
   ]
  },
  {
   "cell_type": "markdown",
   "metadata": {},
   "source": [
    "- $R_x(\\theta) = e^{-i X \\theta/2}$\n",
    "\n",
    "- $R_y(\\theta) = e^{-iY\\theta/2}$\n",
    "\n",
    "- $R_z(\\theta) = e^{-iZ\\theta/2}$\n",
    "\n",
    "\n",
    "If $A^2 = I$ is satisfied, then $e^{iAx} = cos(x)I + isin(x)A$"
   ]
  },
  {
   "cell_type": "markdown",
   "metadata": {},
   "source": [
    " $R_x(\\theta) = cos\\left( \\dfrac{\\theta}{2} \\right)I - isin\\left(\\dfrac{\\theta}{2}\\right)X = \\mymatrix{ll}{cos\\left(\\dfrac{\\theta}{2}\\right)&-isin\\left(\\dfrac{\\theta}{2}\\right)\\\\-isin\\left(\\dfrac{\\theta}{2}\\right)&cos\\left(\\dfrac{\\theta}{2}\\right)}$\n",
    "\n",
    "$R_y(\\theta) = cos\\left(\\dfrac{\\theta}{2}\\right)I - isin\\left(\\dfrac{\\theta}{2}\\right)Y = \\mymatrix{ll}{cos\\left(\\dfrac{\\theta}{2}\\right)&-sin\\left(\\dfrac{\\theta}{2}\\right)\\\\sin\\left(\\dfrac{\\theta}{2}\\right)&cos\\left(\\dfrac{\\theta}{2}\\right)}$"
   ]
  },
  {
   "cell_type": "markdown",
   "metadata": {},
   "source": [
    "$R_z(\\theta)  = cos\\left(\\dfrac{\\theta}{2}\\right)I -i\\sin\\left(\\dfrac{\\theta}{2}\\right)Z=\\mymatrix{ll}{cos\\left(\\dfrac{\\theta}{2}\\right)-isin\\left(\\dfrac{\\theta}{2}\\right)&0\\\\0&cos\\left(\\dfrac{\\theta}{2}\\right)+isin\\left(\\dfrac{\\theta}{2}\\right)} =\\mymatrix{ll}{e^{-i\\theta/2}&0\\\\0&e^{i\\theta/2}}$\n",
    "\n"
   ]
  },
  {
   "cell_type": "markdown",
   "metadata": {},
   "source": [
    "<h2> Identity gate </h2>\n",
    "\n",
    "This gate might sound useless, because it does not change the state of the qubit. On the other hand, we can think about at least two ways to use it. \n",
    "\n",
    "First - to structure our quantum circuit. If we have qubits with some operations being applied, we may want to apply identity to the remainig qubits of the circuit to have step-by-step operations applied to all qubits. \n",
    "\n",
    "Second - identity gate still takes computational time, and for some reason we might want to have this delay in computations, e.g., to test how real quantum computer preserves the state of the qubit over time. \n",
    "\n",
    "In matrix form we have the following unitary operation:\n",
    "\n",
    "$$\n",
    "\\qgate{I}= \\mymatrix{cc}{1 & 0 \\\\ 0 & 1}\n",
    "$$\n",
    "\n",
    "The syntax of identity gate is the following:\n",
    "\n",
    "$$\n",
    "qc.iden(qubit).\n",
    "$$"
   ]
  },
  {
   "cell_type": "markdown",
   "metadata": {},
   "source": [
    "<h2> Pauli gates </h2>\n",
    "\n",
    "After checking more complicated operations, we now will have better understanding of more basic operations with which we are very familiar. Pauli gates are $\\qgate{X}$, $\\qgate{Y}$, and $\\qgate{Z}$."
   ]
  },
  {
   "cell_type": "markdown",
   "metadata": {},
   "source": [
    "<h3> $\\qgate{X}$ gate </h3>\n",
    "\n",
    "It is also called bit-flip gate. You can guess that it is somehow related to the x-axis.Note that x-gate is also an instance of $\\qgate{U}$ gate, i.e., $\\qgate{U}(\\pi, 0, \\pi)$. In fact it is rotation around x-axis by 180 degrees ($\\pi$). Here we can see the matrix form of this operation:\n",
    "\n",
    "$$\n",
    "\\qgate{X} = \\X\n",
    "$$\n",
    "\n",
    "The syntax of $\\qgate{X}$-gate is the following:\n",
    "\n",
    "$$\n",
    "qc.x(qubit).\n",
    "$$\n",
    "\n",
    "Convince yourself that for any initial state $\\qgate{X}$-gate performs rotation by 180 degrees around x-axis."
   ]
  },
  {
   "cell_type": "code",
   "execution_count": null,
   "metadata": {},
   "outputs": [],
   "source": [
    "qreg =  QuantumRegister(1)\n",
    "\n",
    "def initial_circuit():\n",
    "    creg = ClassicalRegister(1)\n",
    "    circuit = QuantumCircuit(qreg,creg)\n",
    "    \n",
    "    # Change this to begin from different state.\n",
    "    circuit.rx(pi/5, qreg[0])\n",
    "    \n",
    "    return circuit\n",
    "\n",
    "mycircuit = initial_circuit()\n",
    "job = execute(mycircuit,Aer.get_backend('statevector_simulator'),optimization_level=0)\n",
    "current_quantum_state=job.result().get_statevector(mycircuit)\n",
    "\n",
    "%run quantum.py\n",
    "angles1 = state_to_angles(current_quantum_state)\n",
    "\n",
    "mycircuit = initial_circuit()\n",
    "\n",
    "# Apply x-gate for new state here\n",
    "mycircuit.x(qreg[0])\n",
    "\n",
    "job = execute(mycircuit,Aer.get_backend('statevector_simulator'),optimization_level=0)\n",
    "current_quantum_state2=job.result().get_statevector(mycircuit)\n",
    "\n",
    "angles2 = state_to_angles(current_quantum_state2)\n",
    "\n",
    "%run drawing.py\n",
    "draw_bloch2(angles1[0], angles1[1], angles2[0], angles2[1])"
   ]
  },
  {
   "cell_type": "markdown",
   "metadata": {},
   "source": [
    "<h3> $\\qgate{Z}$ gate </h3>\n",
    "\n",
    "It is also called phase-flip gate. $\\qgate{Z}$-gate is an instance of $\\qgate{P}$ gate, i.e., $\\qgate{Z} = \\qgate{P}(\\pi)$. In fact it is rotation around the z-axis by 180 degrees ($\\pi$). Here we can see the matrix form of this operation:\n",
    "\n",
    "$$\n",
    "\\qgate{Z} = \\Z\n",
    "$$\n",
    "\n",
    "The syntax of $\\qgate{Z}$-gate is the following:\n",
    "\n",
    "$$\n",
    "qc.z(qubit).\n",
    "$$\n",
    "\n",
    "Convince yourself that for any initial state $\\qgate{Z}$-gate makes rotation by 180 degrees around z-axis."
   ]
  },
  {
   "cell_type": "code",
   "execution_count": null,
   "metadata": {},
   "outputs": [],
   "source": [
    "qreg =  QuantumRegister(1)\n",
    "\n",
    "def initial_circuit():\n",
    "    creg = ClassicalRegister(1)\n",
    "    circuit = QuantumCircuit(qreg,creg)\n",
    "    \n",
    "    # Change this to begin from different state.\n",
    "    circuit.rx(3*pi/8, qreg[0])\n",
    "    circuit.rz(pi/2, qreg[0])\n",
    "    \n",
    "    return circuit\n",
    "\n",
    "mycircuit = initial_circuit()\n",
    "job = execute(mycircuit,Aer.get_backend('statevector_simulator'),optimization_level=0)\n",
    "current_quantum_state=job.result().get_statevector(mycircuit)\n",
    "\n",
    "%run quantum.py\n",
    "angles1 = state_to_angles(current_quantum_state)\n",
    "\n",
    "mycircuit = initial_circuit()\n",
    "\n",
    "# Apply z-gate for new state here\n",
    "mycircuit.z(qreg[0])\n",
    "\n",
    "job = execute(mycircuit,Aer.get_backend('statevector_simulator'),optimization_level=0)\n",
    "current_quantum_state2=job.result().get_statevector(mycircuit)\n",
    "\n",
    "angles2 = state_to_angles(current_quantum_state2)\n",
    "\n",
    "%run drawing.py\n",
    "draw_bloch2(angles1[0], angles1[1], angles2[0], angles2[1])"
   ]
  },
  {
   "cell_type": "markdown",
   "metadata": {},
   "source": [
    "<h3> $\\qgate{Y}$ gate </h3>\n",
    "\n",
    "It is also called bit- and phase-flip gate. $\\qgate{Y}$-gate can be also defined as an instance of $\\qgate{U}$ gate, i.e., $\\qgate{Y} = \\qgate{U}(\\pi, \\frac{\\pi}{2}, \\frac{\\pi}{2})$. In fact it is rotation around y-axis by 180 degrees ($\\pi$). Here we can see the matrix form of this operation:\n",
    "\n",
    "$$\n",
    "Y = \\Y\n",
    "$$\n",
    "\n",
    "The syntax of $\\qgate{Y}$-gate is the following:\n",
    "\n",
    "$$\n",
    "qc.y(qubit).\n",
    "$$\n",
    "\n",
    "Convince yourself that for any initial state $\\qgate{Y}$-gate performs rotation by 180 degrees around $\\qgate{Y}$-axis."
   ]
  },
  {
   "cell_type": "code",
   "execution_count": null,
   "metadata": {},
   "outputs": [],
   "source": [
    "qreg =  QuantumRegister(1)\n",
    "\n",
    "def initial_circuit():\n",
    "    creg = ClassicalRegister(1)\n",
    "    circuit = QuantumCircuit(qreg,creg)\n",
    "    \n",
    "    # Change this to begin from different state.\n",
    "    circuit.rx(3*pi/8, qreg[0])\n",
    "    circuit.rz(pi/2, qreg[0])\n",
    "    \n",
    "    return circuit\n",
    "\n",
    "mycircuit = initial_circuit()\n",
    "job = execute(mycircuit,Aer.get_backend('statevector_simulator'),optimization_level=0)\n",
    "current_quantum_state=job.result().get_statevector(mycircuit)\n",
    "\n",
    "%run quantum.py\n",
    "angles1 = state_to_angles(current_quantum_state)\n",
    "\n",
    "mycircuit = initial_circuit()\n",
    "\n",
    "# Apply y-gate for new state here\n",
    "mycircuit.y(qreg[0])\n",
    "\n",
    "job = execute(mycircuit,Aer.get_backend('statevector_simulator'),optimization_level=0)\n",
    "current_quantum_state2=job.result().get_statevector(mycircuit)\n",
    "\n",
    "angles2 = state_to_angles(current_quantum_state2)\n",
    "\n",
    "%run drawing.py\n",
    "draw_bloch2(angles1[0], angles1[1], angles2[0], angles2[1])"
   ]
  },
  {
   "cell_type": "markdown",
   "metadata": {},
   "source": [
    "<h3> Task 5 </h3>\n",
    "\n",
    "What are the possible states that can be obtained from state $\\ket{0}$ by using only gates $\\qgate{X}$, $\\qgate{Y}$, $\\qgate{Z}$?\n",
    "\n",
    "What are the possible states that can be obtained from state $\\frac{1}{\\sqrt{2}} (\\ket{0} + \\ket{1})$ by using only gates $\\qgate{X}$, $\\qgate{Y}$, $\\qgate{Z}$?\n",
    "\n",
    "You can also try checking this by writing the code."
   ]
  },
  {
   "cell_type": "code",
   "execution_count": null,
   "metadata": {},
   "outputs": [],
   "source": [
    "#\n",
    "# your code is here\n",
    "#\n"
   ]
  },
  {
   "cell_type": "markdown",
   "metadata": {},
   "source": [
    "<a href=\"C08_Operations_On_Bloch_Sphere_Solutions.ipynb#task5\">click for our solution</a>"
   ]
  },
  {
   "cell_type": "markdown",
   "metadata": {},
   "source": [
    "<h2> Clifford gates </h2>\n"
   ]
  },
  {
   "cell_type": "markdown",
   "metadata": {},
   "source": [
    "<h3> Hadamard gate </h3>\n",
    "\n",
    "Usually people like this gate, because it allows to create superpositions and is used in many quantum algorithms. The tricky question is - how is this operation represented on a Bloch sphere?\n",
    "\n",
    "Hadamard gate is also an instance of $\\qgate{U}$ gate, i.e., $\\qgate{H} = U(\\frac{\\pi}{2},0, \\pi)$. Here we can see the matrix form of this operation:\n",
    "\n",
    "$$\n",
    "\\qgate{H} = \\frac{1}{\\sqrt{2}} \\mymatrix{cc}{1 & 1 \\\\ 1 & -1}  = \\hadamard\n",
    "$$"
   ]
  },
  {
   "cell_type": "markdown",
   "metadata": {},
   "source": [
    "Let's check how this operation could be followed on a Bloch sphere. \n",
    "\n",
    "$R_y(\\theta) = \\qgate{U}(\\theta, 0, 0)$, so we might think, that rotation by $\\frac{\\pi}{2}$ around y-axis is involved. This also complies well with the states we get after applying $\\qgate{H}$-gate to the states $\\ket{0}$ and $\\ket{1}$. Now we check the matrix of $R_y(\\frac{\\pi}{2})$:\n",
    "\n",
    "$$\n",
    "\\mymatrix{cc}{\\cos{\\frac{\\theta}{2}} & -\\sin{\\frac{\\theta}{2}} \\\\ \\sin{\\frac{\\theta}{2}} & \\cos{\\frac{\\theta}{2}}} = \\mymatrix{cc}{\\cos{\\frac{\\pi}{4}} & -\\sin{\\frac{\\pi}{4}} \\\\ \\sin{\\frac{\\pi}{4}} & \\cos{\\frac{\\pi}{4}}} = \\frac{1}{\\sqrt{2}} \\mymatrix{cc}{1 & -1 \\\\ 1 & 1}.\n",
    "$$\n",
    "\n",
    "This matrix is quite similar to the matrix of Hadamard operation, and magic happens if we apply x-gate:\n",
    "\n",
    "$$\n",
    "\\frac{1}{\\sqrt{2}} \\mymatrix{cc}{1 & 1 \\\\ 1 & -1} = \\X \\frac{1}{\\sqrt{2}} \\mymatrix{cc}{1 & -1 \\\\ 1 & 1}.\n",
    "$$\n",
    "\n",
    "Hence we can conclude that Hadamard operation is a rotation around y-axis by 90 degrees, followed by a rotation around x-axis by 180 degrees."
   ]
  },
  {
   "cell_type": "markdown",
   "metadata": {},
   "source": [
    "Hadamard operator also be expressed as a rotation by 180 degrees around one specific axis, which is located on xz-plane, 45 degrees from the state $\\ket{0}$ (in y-direction). Here you can check the code that nicely demonstrates mentioned rotation axis (black arrow) and transitions of two Hadamard operators, applied to the state $\\ket{0}$ one by one. The code is taken from [here](https://physics.stackexchange.com/questions/313959/visual-interpretation-on-the-bloch-sphere-when-hadamard-gate-is-applied-twice)."
   ]
  },
  {
   "cell_type": "code",
   "execution_count": null,
   "metadata": {},
   "outputs": [],
   "source": [
    "from qutip.qip.operations import *\n",
    "from qutip import Qobj\n",
    "import numpy as np\n",
    "import scipy\n",
    "import matplotlib.colors\n",
    "import scipy\n",
    "\n",
    "#the gate\n",
    "hadamard = hadamard_transform()\n",
    "# the hamilton operator describing the evolution during the hadamard gate\n",
    "hamilton = Qobj(scipy.linalg.logm(hadamard.data.todense()), dims=hadamard.dims) / np.pi * 1.j\n",
    "\n",
    "#create initial state vector\n",
    "psi0 = (basis(2, 0)).unit()\n",
    "\n",
    "# describing the gate as time evolution\n",
    "def gate(t):\n",
    "    return (-2*np.pi*1.j*hamilton*t).expm()\n",
    "\n",
    "# hadamard gate for t = 0.5\n",
    "# In[1]: gate(0.5)\n",
    "# Out[3]: \n",
    "# Quantum object: dims = [[2], [2]], shape = (2, 2), type = oper, isherm = True\n",
    "# Qobj data =\n",
    "# [[ 0.70710678  0.70710678]\n",
    "#  [ 0.70710678 -0.70710678]]\n",
    "\n",
    "# evolve the gate\n",
    "n = 25\n",
    "psi = [gate(t)*psi0 for t in np.linspace(0, 1., 2*n)]\n",
    "\n",
    "# plotting the states. State evolution during the first hamadard gate is red. During second hadamard gate is blue\n",
    "b = Bloch()\n",
    "b.vector_color = [matplotlib.colors.to_rgba('r', alpha=i) for i in np.arange(n)/float(n)] + [matplotlib.colors.to_rgba('b', alpha=i) for i in np.arange(n)/float(n)]  + ['black']\n",
    "b.add_states(psi)\n",
    "b.add_states([(basis(2,0) + (basis(2,0) + basis(2,1)).unit()).unit()])\n",
    "\n",
    "b.show()"
   ]
  },
  {
   "cell_type": "markdown",
   "metadata": {},
   "source": [
    "The syntax of $\\qgate{H}$-gate is the following:\n",
    "\n",
    "$$\n",
    "qc.h(qubit).\n",
    "$$"
   ]
  },
  {
   "cell_type": "markdown",
   "metadata": {},
   "source": [
    "<h3> Task 6 </h3>\n",
    "\n",
    "Convince yourself that `qc.h(qubit)` is equal to `qc.ry(pi/2, qubit)`, followed by `qc.x(qubit)`.\n",
    "\n",
    "Check this for different initial states."
   ]
  },
  {
   "cell_type": "code",
   "execution_count": null,
   "metadata": {},
   "outputs": [],
   "source": [
    "qreg =  QuantumRegister(1)\n",
    "\n",
    "def initial_circuit():\n",
    "    creg = ClassicalRegister(1)\n",
    "    circuit = QuantumCircuit(qreg,creg)\n",
    "    \n",
    "    # Change this to begin from different state.\n",
    "    circuit.rx(3*pi/8, qreg[0])\n",
    "    circuit.rz(pi/2, qreg[0])\n",
    "    \n",
    "    return circuit\n",
    "\n",
    "mycircuit = initial_circuit()\n",
    "job = execute(mycircuit,Aer.get_backend('statevector_simulator'),optimization_level=0)\n",
    "current_quantum_state=job.result().get_statevector(mycircuit)\n",
    "\n",
    "%run quantum.py\n",
    "angles1 = state_to_angles(current_quantum_state)\n",
    "\n",
    "mycircuit = initial_circuit()\n",
    "\n",
    "# Apply h-gate or alternative combination of gates to check the difference.\n",
    "#mycircuit.h(qreg[0])\n",
    "mycircuit.ry(pi/2, qreg[0])\n",
    "mycircuit.x(qreg[0])\n",
    "\n",
    "job = execute(mycircuit,Aer.get_backend('statevector_simulator'),optimization_level=0)\n",
    "current_quantum_state2=job.result().get_statevector(mycircuit)\n",
    "\n",
    "angles2 = state_to_angles(current_quantum_state2)\n",
    "\n",
    "%run drawing.py\n",
    "draw_bloch2(angles1[0], angles1[1], angles2[0], angles2[1])"
   ]
  },
  {
   "cell_type": "markdown",
   "metadata": {},
   "source": [
    "<h3> Gates $\\qgate{S}$ and $\\qgate{S}^\\dagger$ </h3>\n",
    "\n",
    "These two gates geometrically are much simpler, than Hadamard gate. $\\qgate{S} = \\sqrt{\\qgate{Z}} = \\qgate{P}({\\pi}/{2})$, so it is just a rotation by 90 degrees around z-axis. $\\qgate{S}^\\dagger$ is conjugate of $\\qgate{S}$-gate, and so it is equal to $\\qgate{P}(-{\\pi}/{2})$, i.e., rotation by -90 degrees around z-axis. Here are matrix forms of both gates:\n",
    "\n",
    "$$\n",
    "\\qgate{S} = \\mymatrix{cc}{1 & 0 \\\\ 0 & i}, S^\\dagger = \\mymatrix{cc}{1 & 0 \\\\ 0 & -i}.\n",
    "$$\n",
    "\n",
    "The syntax of $\\qgate{S}$-gate is\n",
    "\n",
    "$$\n",
    "qc.s(qubit),\n",
    "$$\n",
    "\n",
    "while the syntax of $\\qgate{S}^\\dagger$ is\n",
    "\n",
    "$$\n",
    "qc.sdg(qubit).\n",
    "$$"
   ]
  },
  {
   "cell_type": "markdown",
   "metadata": {},
   "source": [
    "<h3> Task 7 </h3>\n",
    "\n",
    "Suppose that we begin in state $\\ket{0}$ and have only the following gates available: $\\qgate{X}$, $\\qgate{Y}$, $\\qgate{Z}$, $\\qgate{H}$, $\\qgate{S}$, $\\qgate{S}^\\dagger$. How many different states can we reach with all possible combinations of mentioned gates?"
   ]
  },
  {
   "cell_type": "markdown",
   "metadata": {},
   "source": [
    "<a href=\"C08_Operations_On_Bloch_Sphere_Solutions.ipynb#task7\">click for our solution</a>"
   ]
  },
  {
   "cell_type": "markdown",
   "metadata": {},
   "source": [
    "<h2> C3 gates </h2>\n",
    "\n",
    "Here we have just two gates, $\\qgate{T}$ and $\\qgate{T}^\\dagger$."
   ]
  },
  {
   "cell_type": "markdown",
   "metadata": {},
   "source": [
    "<h3> $\\qgate{T}$ gate </h3>\n",
    "\n",
    "This gate also is simply understandable transformation on a Bloch sphere, because $\\qgate{T} = \\sqrt{\\qgate{S}} = \\qgate{P}({\\pi}/{4})$. $\\qgate{T}^\\dagger =P(-{\\pi}/{4})$, so we will not discuss it in detail, as it can be replaced by sequence of 7 $\\qgate{T}$-gates (or more interestingly, by sequence $\\qgate{Z}$, $\\qgate{S}$, $\\qgate{T}$, which does the same). As we see, $\\qgate{T}$-gate is a rotation by 45 degrees around z-axis. Matrix representation is the following:\n",
    "\n",
    "$$\n",
    "T = \\mymatrix{cc}{1 & 0 \\\\ 0 & e^{i \\frac{\\pi}{4}}}, T^\\dagger = \\mymatrix{cc}{1 & 0 \\\\ 0 & e^{-i \\frac{\\pi}{4}}}.\n",
    "$$\n",
    "\n",
    "The syntax of $\\qgate{T}$-gate is\n",
    "\n",
    "$$\n",
    "qc.t(qubit),\n",
    "$$\n",
    "\n",
    "while the syntax of $\\qgate{T}^\\dagger$ is\n",
    "\n",
    "$$\n",
    "qc.tdg(qubit).\n",
    "$$"
   ]
  },
  {
   "cell_type": "markdown",
   "metadata": {},
   "source": [
    "---"
   ]
  },
  {
   "cell_type": "markdown",
   "metadata": {},
   "source": [
    "Suppose that we have just two gates available - $\\qgate{H}$-gate and $\\qgate{T}$-gate. How many different states can we reach starting from state $\\ket{0}$ and by applying different combinations of both gates (can also apply multiple times)? \n",
    "\n",
    "We have a gate, that allows to do rotation by 45 degrees around z-axis, and a gate, that performs a rotation around a specific axis (or simply rotation by 90 degrees around y-axis, followed by a rotation by 180 degrees around x-axis).\n",
    "\n",
    "Surpirisingly, combination of these two gates allows to approximate arbitrarily precisely any one-qubit operation, in other words, any state of a qubit can be obtained.\n",
    "\n",
    "There is a proven fact that presence of $\\qgate{H}$-gate, $\\qgate{T}$-gate and $\\qgate{CNOT}$-gate is enough to form a universal quantum computation, which means, that these three operations allow to transform any state of a quantum system to any state. So $\\qgate{T}$-gate and $\\qgate{H}$-gate are enough for universal one-qubit operations."
   ]
  },
  {
   "cell_type": "markdown",
   "metadata": {},
   "source": [
    "<h3> Task 8 </h3>\n",
    "\n",
    "Reach state $\\ket{1}$ by using only $\\qgate{H}$-gates and $\\qgate{T}$-gates."
   ]
  },
  {
   "cell_type": "code",
   "execution_count": null,
   "metadata": {},
   "outputs": [],
   "source": [
    "qreg =  QuantumRegister(1)\n",
    "creg = ClassicalRegister(1)\n",
    "mycircuit = QuantumCircuit(qreg,creg)\n",
    "\n",
    "#\n",
    "# your solution is here\n",
    "#\n",
    "\n",
    "job = execute(mycircuit,Aer.get_backend('statevector_simulator'),optimization_level=0)\n",
    "current_quantum_state=job.result().get_statevector(mycircuit)\n",
    "\n",
    "%run quantum.py\n",
    "angles = state_to_angles(current_quantum_state)\n",
    "\n",
    "%run drawing.py\n",
    "draw_bloch(angles[0], angles[1])"
   ]
  },
  {
   "cell_type": "markdown",
   "metadata": {},
   "source": [
    "<a href=\"C08_Operations_On_Bloch_Sphere_Solutions.ipynb#task8\">click for our solution</a>"
   ]
  },
  {
   "cell_type": "markdown",
   "metadata": {},
   "source": [
    "<h3> Task 9 (optional) </h3>\n",
    "\n",
    "For each of the following well-known operations, write down the sequence of $\\qgate{H}$-gates and $\\qgate{T}$-gates that replaces it:\n",
    "\n",
    "<ul>\n",
    "    <li>$\\qgate{X}$-gate</li>\n",
    "    <li>$\\qgate{Z}$-gate</li>\n",
    "    <li>$\\qgate{Y}$-gate</li>\n",
    "    <li>$\\qgate{S}$-gate</li>\n",
    "</ul>"
   ]
  },
  {
   "cell_type": "markdown",
   "metadata": {},
   "source": [
    "<a href=\"C08_Operations_On_Bloch_Sphere_Solutions.ipynb#task9\">click for our solution</a>"
   ]
  },
  {
   "cell_type": "markdown",
   "metadata": {},
   "source": [
    "<h3> Task 10 (optional) </h3>\n",
    "\n",
    "Reach the state, such that applying $\\qgate{H}$-gate does not change the state. Such state is the axis, around which $\\qgate{H}$-gate performs a rotation.\n",
    "\n",
    "Can you reach also the opposite end of this axis?"
   ]
  },
  {
   "cell_type": "code",
   "execution_count": null,
   "metadata": {},
   "outputs": [],
   "source": [
    "qreg =  QuantumRegister(1)\n",
    "creg = ClassicalRegister(1)\n",
    "mycircuit = QuantumCircuit(qreg,creg)\n",
    "\n",
    "#\n",
    "# your solution is here\n",
    "#\n",
    "\n",
    "job = execute(mycircuit,Aer.get_backend('statevector_simulator'),optimization_level=0)\n",
    "current_quantum_state=job.result().get_statevector(mycircuit)\n",
    "\n",
    "%run quantum.py\n",
    "angles = state_to_angles(current_quantum_state)\n",
    "\n",
    "%run drawing.py\n",
    "draw_bloch(angles[0], angles[1])"
   ]
  },
  {
   "cell_type": "markdown",
   "metadata": {},
   "source": [
    "<a href=\"C08_Operations_On_Bloch_Sphere_Solutions.ipynb#task10\">click for our solution</a>"
   ]
  },
  {
   "cell_type": "markdown",
   "metadata": {},
   "source": [
    "If you manage to solve Task 10, then you have no difficulties to reach any of the following states"
   ]
  },
  {
   "cell_type": "code",
   "execution_count": null,
   "metadata": {},
   "outputs": [],
   "source": [
    "sphere = bloch\n",
    "sphere.Bloch\n",
    "b = Bloch()\n",
    "xp = [np.cos(th) for th in np.linspace(0, 2*pi, 9)]\n",
    "yp = [np.sin(th) for th in np.linspace(0, 2*pi, 9)]\n",
    "zp = np.zeros(9)\n",
    "pnts = [xp, yp, zp]\n",
    "b.add_points(pnts)\n",
    "xp = [np.cos(th)*(2**0.5/2) for th in np.linspace(0, 2*pi, 9)]\n",
    "yp = [np.sin(th)*(2**0.5/2) for th in np.linspace(0, 2*pi, 9)]\n",
    "zp = np.empty(9)\n",
    "zp.fill(2**0.5/2)\n",
    "pnts = [xp, yp, zp]\n",
    "b.add_points(pnts)\n",
    "xp = [np.cos(th)*(2**0.5/2) for th in np.linspace(0, 2*pi, 9)]\n",
    "yp = [np.sin(th)*(2**0.5/2) for th in np.linspace(0, 2*pi, 9)]\n",
    "zp = np.empty(9)\n",
    "zp.fill(-2**0.5/2)\n",
    "pnts = [xp, yp, zp]\n",
    "b.add_points(pnts)\n",
    "b.show()"
   ]
  },
  {
   "cell_type": "markdown",
   "metadata": {},
   "source": [
    "<h3> Task 11 (optional) </h3>\n",
    "\n",
    "Try to get as close as possible to the state $\\ket{0}$ with $\\qgate{H}$-gates and $\\qgate{T}$-gates, but not exactly to the state $\\ket{0}$.\n",
    "\n",
    "Do you know the combination of $\\qgate{H}$-gates and $\\qgate{T}$-gates, that will transform this state to the state, which is very close to the state $\\ket{1}$?"
   ]
  },
  {
   "cell_type": "code",
   "execution_count": null,
   "metadata": {},
   "outputs": [],
   "source": [
    "qreg =  QuantumRegister(1)\n",
    "creg = ClassicalRegister(1)\n",
    "mycircuit = QuantumCircuit(qreg,creg)\n",
    "\n",
    "#\n",
    "# your solution is here\n",
    "#\n",
    "\n",
    "job = execute(mycircuit,Aer.get_backend('statevector_simulator'),optimization_level=0)\n",
    "current_quantum_state=job.result().get_statevector(mycircuit)\n",
    "\n",
    "%run quantum.py\n",
    "angles = state_to_angles(current_quantum_state)\n",
    "\n",
    "%run drawing.py\n",
    "draw_bloch(angles[0], angles[1])"
   ]
  },
  {
   "cell_type": "markdown",
   "metadata": {},
   "source": [
    "<a href=\"C08_Operations_On_Bloch_Sphere_Solutions.ipynb#task11\">click for our solution</a>"
   ]
  },
  {
   "cell_type": "markdown",
   "metadata": {},
   "source": [
    "<h3> Task 12 (optional)</h3>\n",
    "\n",
    "Another way to have universal operations on a qubit is to have rotations available by two axes by any angles. Show how to replace rotation by z-axis with rotations by x-axis and y-axis. You can use the code to do testing.\n",
    "\n",
    "If you managed to get the idea, try to:\n",
    "<ul>\n",
    "    <li>replace rotation by x-axis with rotations by y-axis and z-axis;</li>\n",
    "    <li>replace rotation by y-axis with rotations by x-axis and z-axis.</li>\n",
    "</ul>"
   ]
  },
  {
   "cell_type": "code",
   "execution_count": null,
   "metadata": {},
   "outputs": [],
   "source": [
    "qreg =  QuantumRegister(1)\n",
    "creg = ClassicalRegister(1)\n",
    "mycircuit = QuantumCircuit(qreg,creg)\n",
    "\n",
    "#\n",
    "# your solution is here\n",
    "#\n",
    "\n",
    "job = execute(mycircuit,Aer.get_backend('statevector_simulator'),optimization_level=0)\n",
    "current_quantum_state=job.result().get_statevector(mycircuit)\n",
    "\n",
    "%run quantum.py\n",
    "angles = state_to_angles(current_quantum_state)\n",
    "\n",
    "%run drawing.py\n",
    "draw_bloch(angles[0], angles[1])"
   ]
  },
  {
   "cell_type": "markdown",
   "metadata": {},
   "source": [
    "<a href=\"C08_Operations_On_Bloch_Sphere_Solutions.ipynb#task12\">click for our solution</a>"
   ]
  },
  {
   "cell_type": "markdown",
   "metadata": {},
   "source": [
    "<h3> Task 13 (optional, challenging)</h3>\n",
    "\n",
    "Develop a method that allows to reach any different angle $\\theta$ from state $\\ket{0}$ with $\\qgate{H}$-gates and $\\qgate{T}$-gates. For this purpose you can create a function, that takes $\\theta$ as a parameter, and returns sequence of $\\qgate{H}$-gates and $\\qgate{T}$-gates to reach such state.\n",
    "\n",
    "Try to reach some different angles first, like 45 degrees, 22.5 degrees, 11.25 degrees, angles between them."
   ]
  },
  {
   "cell_type": "code",
   "execution_count": null,
   "metadata": {},
   "outputs": [],
   "source": [
    "#\n",
    "# your solution is here\n",
    "#"
   ]
  },
  {
   "cell_type": "markdown",
   "metadata": {},
   "source": [
    "<a href=\"C08_Operations_On_Bloch_Sphere_Solutions.ipynb#task13\">click for our solution</a>"
   ]
  }
 ],
 "metadata": {
  "kernelspec": {
   "display_name": "Python 3",
   "language": "python",
   "name": "python3"
  },
  "language_info": {
   "codemirror_mode": {
    "name": "ipython",
    "version": 3
   },
   "file_extension": ".py",
   "mimetype": "text/x-python",
   "name": "python",
   "nbconvert_exporter": "python",
   "pygments_lexer": "ipython3",
   "version": "3.7.3"
  }
 },
 "nbformat": 4,
 "nbformat_minor": 2
}
